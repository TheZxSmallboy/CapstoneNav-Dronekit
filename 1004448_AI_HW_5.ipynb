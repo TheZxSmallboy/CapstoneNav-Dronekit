{
  "nbformat": 4,
  "nbformat_minor": 0,
  "metadata": {
    "colab": {
      "name": "1004448 AI HW 5",
      "provenance": [],
      "collapsed_sections": [],
      "include_colab_link": true
    },
    "kernelspec": {
      "name": "python3",
      "display_name": "Python 3"
    },
    "accelerator": "GPU"
  },
  "cells": [
    {
      "cell_type": "markdown",
      "metadata": {
        "id": "view-in-github",
        "colab_type": "text"
      },
      "source": [
        "<a href=\"https://colab.research.google.com/github/TheZxSmallboy/CapstoneNav-MavSDK/blob/main/1004448_AI_HW_5.ipynb\" target=\"_parent\"><img src=\"https://colab.research.google.com/assets/colab-badge.svg\" alt=\"Open In Colab\"/></a>"
      ]
    },
    {
      "cell_type": "markdown",
      "metadata": {
        "id": "rUbEmuvZJxlI"
      },
      "source": [
        "# PyTorch - homework 1\n"
      ]
    },
    {
      "cell_type": "markdown",
      "metadata": {
        "id": "efS07mO7J6AR"
      },
      "source": [
        "Please run the whole notebook with your code and submit the `.ipynb` file that includes your answers. "
      ]
    },
    {
      "cell_type": "code",
      "metadata": {
        "id": "mJpzFaX0J6Zz",
        "colab": {
          "base_uri": "https://localhost:8080/"
        },
        "outputId": "847a4dbf-ba76-4ecd-eb9a-d514c53f4568"
      },
      "source": [
        "from termcolor import colored\n",
        "\n",
        "student_number=\"1004448\"\n",
        "student_name=\"Wang Zixuan\"\n",
        "\n",
        "print(colored(\"Homework by \"  + student_name + ', number: ' + student_number,'red'))"
      ],
      "execution_count": 1,
      "outputs": [
        {
          "output_type": "stream",
          "name": "stdout",
          "text": [
            "\u001b[31mHomework by Wang Zixuan, number: 1004448\u001b[0m\n"
          ]
        }
      ]
    },
    {
      "cell_type": "markdown",
      "metadata": {
        "id": "-xDkwBg8LKQ_"
      },
      "source": [
        " ## Question 1 -- matrix multiplication\n",
        "\n",
        "Implement the following mathematical operation on both the CPU and GPU (use Google Colab or another cloud service if you don't have a GPU in your computer). Print:\n",
        "\n",
        "a) which type of GPU card you have and \n",
        "\n",
        "b) show the computation time for both CPU and GPU (using PyTorch). \n",
        "\n",
        "c) How much % faster is the GPU? \n",
        "\n",
        " The operation to implement is the dot product $C = B * A^T$\n",
        "\n",
        " whereby $A$ is a random matrix of size $20,000 \\times 1,000$ and $B$ is a random matrix of size $2,000 \\times 1,000$. In addition to the required information asked above:\n",
        " \n",
        " d) please also print the resulting two $C$ matrices (they should be the same btw). \n",
        " \n",
        "\n"
      ]
    },
    {
      "cell_type": "markdown",
      "source": [
        ""
      ],
      "metadata": {
        "id": "7a8J1yltyrTn"
      }
    },
    {
      "cell_type": "code",
      "metadata": {
        "id": "BINvhm-PLKak",
        "colab": {
          "base_uri": "https://localhost:8080/"
        },
        "outputId": "a51e011c-2624-4732-d4cf-6c1c5337254b"
      },
      "source": [
        "# implement solution here\n",
        "import torch\n",
        "\n",
        "# a) The type of GPU card you have\n",
        "gpu_card = torch.cuda.get_device_name(0)\n",
        "print(torch.cuda.is_available())\n",
        "print(\"a) The GPU card is\", gpu_card)\n",
        "\n",
        "A = torch.rand((20000, 1000))\n",
        "B = torch.rand((2000, 1000))\n",
        "\n",
        "start = torch.cuda.Event(enable_timing=True)\n",
        "end = torch.cuda.Event(enable_timing=True)\n",
        "\n",
        "# b) and d) GPU computational time and C matrix\n",
        "device = 'cuda'\n",
        "start.record()\n",
        "C = torch.matmul(B.to(device), torch.transpose(A,0,1).to(device))\n",
        "end.record()\n",
        "torch.cuda.synchronize()\n",
        "time_elapsed1 = start.elapsed_time(end)\n",
        "print(\"GPU compuation time is\", time_elapsed1)\n",
        "print(C)\n",
        "\n",
        "# b) and d) CPU computational time and C matrix\n",
        "device = 'cpu'\n",
        "start.record()\n",
        "C = torch.matmul(B.to(device), torch.transpose(A,0,1).to(device))\n",
        "end.record()\n",
        "torch.cuda.synchronize()\n",
        "time_elapsed2 = start.elapsed_time(end)\n",
        "print(\"CPU compuation time is\", time_elapsed2)\n",
        "print(C)\n",
        "\n",
        "# c) Percentage faster for GPU\n",
        "time_diff = ((time_elapsed2- time_elapsed1)/time_elapsed2)*100\n",
        "\n",
        "print(\"GPU is\", time_diff, \"% faster\")\n",
        "\n",
        "\n",
        "\n"
      ],
      "execution_count": 10,
      "outputs": [
        {
          "output_type": "stream",
          "name": "stdout",
          "text": [
            "True\n",
            "a) The GPU card is Tesla T4\n",
            "GPU compuation time is 48.00947189331055\n",
            "tensor([[261.8482, 256.2710, 251.7561,  ..., 254.4596, 251.9306, 259.3327],\n",
            "        [252.9153, 247.4323, 244.0038,  ..., 243.6679, 244.7730, 251.9611],\n",
            "        [247.6445, 242.4991, 243.2641,  ..., 243.0279, 238.0548, 250.7950],\n",
            "        ...,\n",
            "        [245.5389, 238.2775, 238.5473,  ..., 240.8333, 240.2434, 251.8797],\n",
            "        [256.1284, 244.4170, 246.7598,  ..., 251.2768, 245.2113, 253.2175],\n",
            "        [244.3440, 237.8811, 240.4344,  ..., 236.6896, 237.1082, 249.4396]],\n",
            "       device='cuda:0')\n",
            "CPU compuation time is 1014.7877807617188\n",
            "tensor([[261.8484, 256.2712, 251.7562,  ..., 254.4597, 251.9305, 259.3327],\n",
            "        [252.9152, 247.4322, 244.0037,  ..., 243.6679, 244.7731, 251.9609],\n",
            "        [247.6446, 242.4991, 243.2640,  ..., 243.0279, 238.0548, 250.7951],\n",
            "        ...,\n",
            "        [245.5389, 238.2777, 238.5475,  ..., 240.8333, 240.2434, 251.8795],\n",
            "        [256.1286, 244.4169, 246.7599,  ..., 251.2767, 245.2115, 253.2178],\n",
            "        [244.3440, 237.8810, 240.4344,  ..., 236.6896, 237.1081, 249.4394]])\n",
            "GPU is 95.26901360033389 % faster\n"
          ]
        }
      ]
    },
    {
      "cell_type": "markdown",
      "metadata": {
        "id": "LZJXmfT-yU3g"
      },
      "source": [
        "## Question 2 - grad\n",
        "\n",
        "\n",
        "Find the gradient (partial derivatives) of the function $g(w)$ below. \n",
        "\n",
        "Let  $w=[w_1,w_2]^T$\n",
        "\n",
        "Consider  $g(w)=2w_1w_2+w_2cos(w_1)$\n",
        "\n",
        "a) In PyTorch, compute:   $\\nabla g(w)$ \n",
        "\n",
        " and verify that $\\nabla g([\\pi,1])=[2,2\\pi−1]^T$ using the grad function, whereby the first position is the partial for $w_1$ and the second position is the partial for $w_2$. \n",
        "\n",
        "b) You can also write a function to manually calculate these partial derivatives! You can review your differential equations math at [here](https://www.wolframalpha.com/input/?i=derivative+y+cos%28x%29) and implement this as a second function below to verify that it comes to the same solution. \n"
      ]
    },
    {
      "cell_type": "code",
      "metadata": {
        "id": "pLjz6_LKt4sc",
        "colab": {
          "base_uri": "https://localhost:8080/"
        },
        "outputId": "48cdd0db-6e6c-40d9-c0d4-1c51dc6239f9"
      },
      "source": [
        "# write your solution here\n",
        "import math\n",
        "\n",
        "def g(w):\n",
        "  return 2*w[0]*w[1] + w[1]*torch.cos(w[0])\n",
        "\n",
        "## Part A\n",
        "W = [math.pi, 1]\n",
        "w = torch.tensor(W, requires_grad=True)\n",
        "grad = torch.autograd.grad(g(w), w)[0]\n",
        "print(\"Part A Pytorch calculated:\", grad)\n",
        "\n",
        "## Part B manually calculate\n",
        "grad_manual = torch.Tensor([2,2*math.pi -1])\n",
        "print(\"Part B Manually calculated:\", grad_manual)\n"
      ],
      "execution_count": 17,
      "outputs": [
        {
          "output_type": "stream",
          "name": "stdout",
          "text": [
            "Part A Pytorch calculated: tensor([2.0000, 5.2832])\n",
            "Part B Manually calculated: tensor([2.0000, 5.2832])\n"
          ]
        }
      ]
    },
    {
      "cell_type": "markdown",
      "metadata": {
        "id": "rJwP6ur8LKjD"
      },
      "source": [
        "## Question 3 - dance hit song prediction\n",
        "\n",
        "Implement logistic regression in PyTorch for the following dance hit song prediction training dataset: \n",
        "https://dorax.s3.ap-south-1.amazonaws.com/herremans_hit_1030training.csv\n",
        "\n",
        " * Input variables: a number of audio features (most already standardized so don't worry about that)\n",
        " * Target variable: Topclass1030: \n",
        "   * 1 means it was a top 10 hit song; \n",
        "   * 0 means it never went above top 30 position.\n",
        "\n",
        "This dataset is derived from my paper on dance hit song prediction, for full description of features have a look at https://arxiv.org/abs/1905.08076. \n",
        "\n",
        "Print the evolution of the loss every few epochs and train the model until it converges. \n",
        " \n",
        " After training the logistic regression model, calculate the prediction accuracy on the test set: \n",
        " https://dorax.s3.ap-south-1.amazonaws.com/herremans_hit_1030test.csv\n",
        "\n",
        "\n",
        "\n",
        "\n",
        "\n",
        "\n"
      ]
    },
    {
      "cell_type": "code",
      "metadata": {
        "id": "VyRP6bl8t4Wc",
        "colab": {
          "base_uri": "https://localhost:8080/"
        },
        "outputId": "26810583-af05-4627-9dc4-11410bc75c1e"
      },
      "source": [
        "# Get the dataset\n",
        "# !wget https://dorax.s3.ap-south-1.amazonaws.com/herremans_hit_1030training.csv\n",
        "# !wget https://dorax.s3.ap-south-1.amazonaws.com/herremans_hit_1030test.csv\n",
        "\n",
        "# Your code here\n",
        "import pandas as pd\n",
        "import numpy as np\n",
        "import torch\n",
        "import torch.nn.functional as F\n",
        "\n",
        "# load data\n",
        "training_data = pd.read_csv(\"/content/herremans_hit_1030training.csv\")\n",
        "testing_data = pd.read_csv(\"/content/herremans_hit_1030test.csv\")\n",
        "\n",
        "# define logistic regression model\n",
        "class LogisticRegression(torch.nn.Module):\n",
        "    def __init__(self, input_size, num_classes):\n",
        "        super(LogisticRegression, self).__init__()\n",
        "        self.linear = torch.nn.Linear(input_size, num_classes)\n",
        "    def forward(self, x):\n",
        "        out = self.linear(x)\n",
        "        out = torch.sigmoid(out)\n",
        "        return out\n",
        "\n",
        "# train model\n",
        "device = \"cuda\"\n",
        "epochs = 10001\n",
        "\n",
        "output_size = 1\n",
        "input_size = 49 \n",
        "\n",
        "logreg_clf = LogisticRegression(input_size, output_size).to(device)\n",
        "learning_rate = 0.001\n",
        "loss_function = torch.nn.BCELoss()\n",
        "optimizer = torch.optim.SGD(logreg_clf.parameters(), lr= learning_rate)\n",
        "\n",
        "for epoch in range(epochs):\n",
        "    x = torch.FloatTensor(training_data.loc[:, training_data.columns != 'Topclass1030'].values).to(device)\n",
        "    y = torch.FloatTensor(training_data['Topclass1030']).to(device)\n",
        "    optimizer.zero_grad()\n",
        "    y_pred = logreg_clf(x)    \n",
        "    loss = loss_function(y_pred, y.view(-1,1)).to(device)\n",
        "    loss.backward()\n",
        "    optimizer.step()\n",
        "    if epoch % 500 == 0:\n",
        "        print (\"Epoch:\", epoch, \"Loss:{0}\".format(loss))\n"
      ],
      "execution_count": 36,
      "outputs": [
        {
          "output_type": "stream",
          "name": "stdout",
          "text": [
            "Epoch: 0 Loss:0.6603489518165588\n",
            "Epoch: 500 Loss:0.6312949657440186\n",
            "Epoch: 1000 Loss:0.6134909391403198\n",
            "Epoch: 1500 Loss:0.599833607673645\n",
            "Epoch: 2000 Loss:0.588792085647583\n",
            "Epoch: 2500 Loss:0.5796651244163513\n",
            "Epoch: 3000 Loss:0.571998655796051\n",
            "Epoch: 3500 Loss:0.5654703378677368\n",
            "Epoch: 4000 Loss:0.559844970703125\n",
            "Epoch: 4500 Loss:0.5549471974372864\n",
            "Epoch: 5000 Loss:0.5506445169448853\n",
            "Epoch: 5500 Loss:0.5468347072601318\n",
            "Epoch: 6000 Loss:0.5434380173683167\n",
            "Epoch: 6500 Loss:0.540391206741333\n",
            "Epoch: 7000 Loss:0.5376434922218323\n",
            "Epoch: 7500 Loss:0.5351535081863403\n",
            "Epoch: 8000 Loss:0.5328873991966248\n",
            "Epoch: 8500 Loss:0.5308170318603516\n",
            "Epoch: 9000 Loss:0.5289186835289001\n",
            "Epoch: 9500 Loss:0.5271724462509155\n",
            "Epoch: 10000 Loss:0.5255614519119263\n"
          ]
        }
      ]
    },
    {
      "cell_type": "markdown",
      "metadata": {
        "id": "vw4yfGoGuChe"
      },
      "source": [
        "Run the below code to test the accuracy of your model on the training set: "
      ]
    },
    {
      "cell_type": "code",
      "metadata": {
        "id": "L88WmKtMt5gH",
        "colab": {
          "base_uri": "https://localhost:8080/"
        },
        "outputId": "0e05cc70-d890-4c1b-8060-27c01108583c"
      },
      "source": [
        "import pandas as pd \n",
        "\n",
        "test = pd.read_csv('/content/herremans_hit_1030test.csv')\n",
        "labels = test.iloc[:,-1]\n",
        "test = test.drop('Topclass1030', axis=1)\n",
        "testdata = torch.Tensor(test.values)\n",
        "testlabels = torch.Tensor(labels.values).view(-1,1)\n",
        "device=\"cuda\"\n",
        "\n",
        "TP = 0\n",
        "TN = 0\n",
        "FN = 0\n",
        "FP = 0\n",
        "\n",
        "for i in range(0, testdata.size()[0]): \n",
        "  # print(testdata[i].size())\n",
        "  Xtest = torch.Tensor(testdata[i]).to(device)\n",
        "  y_hat = logreg_clf(Xtest)\n",
        "  \n",
        "  if y_hat > 0.5:\n",
        "    prediction = 1\n",
        "  else: \n",
        "    prediction = 0\n",
        "\n",
        "  if (prediction == testlabels[i]):\n",
        "    if (prediction == 1):\n",
        "      TP += 1\n",
        "    else: \n",
        "      TN += 1\n",
        "\n",
        "  else:\n",
        "    if (prediction == 1):\n",
        "      FP += 1\n",
        "    else: \n",
        "      FN += 1\n",
        "\n",
        "print(\"True Positives: {0}, True Negatives: {1}\".format(TP, TN))\n",
        "print(\"False Positives: {0}, False Negatives: {1}\".format(FP, FN))\n",
        "rate = TP/(FN+TP)\n",
        "print(\"Class specific accuracy of correctly predicting a hit song is {0}\".format(rate))"
      ],
      "execution_count": 37,
      "outputs": [
        {
          "output_type": "stream",
          "name": "stdout",
          "text": [
            "True Positives: 44, True Negatives: 14\n",
            "False Positives: 15, False Negatives: 6\n",
            "Class specific accuracy of correctly predicting a hit song is 0.88\n"
          ]
        }
      ]
    }
  ]
}